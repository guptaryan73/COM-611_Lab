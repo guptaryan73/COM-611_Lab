import statsmodels.api as sm
from skylearn.metrics import mean_squared_error
from skylearn.metrics import r2_score